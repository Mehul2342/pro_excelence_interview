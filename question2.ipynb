{
 "cells": [
  {
   "cell_type": "code",
   "execution_count": 1,
   "metadata": {},
   "outputs": [
    {
     "name": "stdout",
     "output_type": "stream",
     "text": [
      "7\n"
     ]
    }
   ],
   "source": [
    "def question1(val):\n",
    "    rows = len(val)\n",
    "    cols = len(val[0])\n",
    "\n",
    "    new_rows = [max(row) for row in val]\n",
    "    new_cols = [max([val[i][j] for i in range(rows)]) for j in range(cols)]\n",
    "\n",
    "    new_rows.sort(reverse=True)\n",
    "    new_cols.sort(reverse=True)\n",
    "\n",
    "    if new_rows[0] != new_cols[0]:\n",
    "        return new_rows[0] + new_cols[0]\n",
    "    else:\n",
    "        return max(new_rows[0] + new_cols[1], new_rows[1] + new_cols[0])\n",
    "\n",
    "val = [\n",
    "    [0, 2, 3],\n",
    "    [0, 4, 2],\n",
    "    [2, 0, 2]\n",
    "]\n",
    "\n",
    "\n",
    "res = question1(val)\n",
    "print(res)\n"
   ]
  }
 ],
 "metadata": {
  "kernelspec": {
   "display_name": ".venv",
   "language": "python",
   "name": "python3"
  },
  "language_info": {
   "codemirror_mode": {
    "name": "ipython",
    "version": 3
   },
   "file_extension": ".py",
   "mimetype": "text/x-python",
   "name": "python",
   "nbconvert_exporter": "python",
   "pygments_lexer": "ipython3",
   "version": "3.11.5"
  }
 },
 "nbformat": 4,
 "nbformat_minor": 2
}
